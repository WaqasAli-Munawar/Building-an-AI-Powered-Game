{
 "cells": [
  {
   "cell_type": "markdown",
   "id": "ac19c917-fe0b-4140-abc4-33d6b3972aaa",
   "metadata": {
    "id": "173e06c5-4b07-4e3b-a67a-5c3e141beb2c"
   },
   "source": [
    "## Creating a World"
   ]
  },
  {
   "cell_type": "code",
   "execution_count": 1,
   "id": "93056e48-cb80-46a8-8990-bc5b4ae9506b",
   "metadata": {
    "height": 168
   },
   "outputs": [],
   "source": [
    "system_prompt = f\"\"\"\n",
    "Your job is to help create interesting fantasy worlds that \\\n",
    "players would love to play in.\n",
    "Instructions:\n",
    "- Only generate in plain text without formatting.\n",
    "- Use simple clear language without being flowery.\n",
    "- You must stay below 3-5 sentences for each description.\n",
    "\"\"\""
   ]
  },
  {
   "cell_type": "code",
   "execution_count": 2,
   "id": "330f3e78-9a20-45b1-afa5-a65289046a55",
   "metadata": {
    "height": 202
   },
   "outputs": [],
   "source": [
    "world_prompt = f\"\"\"\n",
    "Generate a creative description for a unique fantasy world with an\n",
    "interesting concept around cities build on the backs of massive beasts.\n",
    "\n",
    "Output content in the form:\n",
    "World Name: <WORLD NAME>\n",
    "World Description: <WORLD DESCRIPTION>\n",
    "\n",
    "World Name:\"\"\"\n"
   ]
  },
  {
   "cell_type": "code",
   "execution_count": 3,
   "id": "7f928bb3-c6e4-4891-a154-3b3f225e8d21",
   "metadata": {
    "height": 217
   },
   "outputs": [],
   "source": [
    "from together import Together\n",
    "from helper import get_together_api_key,load_env \n",
    "\n",
    "client = Together(api_key=get_together_api_key())\n",
    "\n",
    "output = client.chat.completions.create(\n",
    "    model=\"meta-llama/Llama-3-70b-chat-hf\",\n",
    "    messages=[\n",
    "        {\"role\": \"system\", \"content\": system_prompt},\n",
    "        {\"role\": \"user\", \"content\": world_prompt}\n",
    "    ],\n",
    ")"
   ]
  },
  {
   "cell_type": "code",
   "execution_count": 4,
   "id": "22d161d6-cb78-4c3d-b858-5659d5d16761",
   "metadata": {
    "height": 47
   },
   "outputs": [
    {
     "name": "stdout",
     "output_type": "stream",
     "text": [
      "World Name: Kyropeia\n",
      "\n",
      "World Description: Kyropeia is a realm where ancient, gargantuan creatures known as the \"Colossi\" roam the land, their massive bodies serving as the foundation for sprawling metropolises. These beasts, born from the earth and nurtured by the planet's elemental forces, have formed symbiotic relationships with the inhabitants of Kyropeia, who have learned to harness their power and build sprawling cities upon their backs. As the Colossi migrate across the landscape, the cities they carry adapt and evolve, their architecture a testament to the ingenuity and resilience of the Kyropeians.\n"
     ]
    }
   ],
   "source": [
    "world_output =output.choices[0].message.content\n",
    "print(world_output)"
   ]
  },
  {
   "cell_type": "code",
   "execution_count": 5,
   "id": "b993a1df-7735-43da-9872-45bb2bdc9fb2",
   "metadata": {
    "height": 151
   },
   "outputs": [],
   "source": [
    "world_output = world_output.strip()\n",
    "world = {\n",
    "    \"name\": world_output.split('\\n')[0].strip()\n",
    "    .replace('World Name: ', ''),\n",
    "    \"description\": '\\n'.join(world_output.split('\\n')[1:])\n",
    "    .replace('World Description:', '').strip()\n",
    "}"
   ]
  },
  {
   "cell_type": "code",
   "execution_count": 6,
   "id": "f0503b7c",
   "metadata": {
    "height": 30
   },
   "outputs": [
    {
     "data": {
      "text/plain": [
       "{'name': 'Kyropeia',\n",
       " 'description': 'Kyropeia is a realm where ancient, gargantuan creatures known as the \"Colossi\" roam the land, their massive bodies serving as the foundation for sprawling metropolises. These beasts, born from the earth and nurtured by the planet\\'s elemental forces, have formed symbiotic relationships with the inhabitants of Kyropeia, who have learned to harness their power and build sprawling cities upon their backs. As the Colossi migrate across the landscape, the cities they carry adapt and evolve, their architecture a testament to the ingenuity and resilience of the Kyropeians.'}"
      ]
     },
     "execution_count": 6,
     "metadata": {},
     "output_type": "execute_result"
    }
   ],
   "source": [
    "world"
   ]
  },
  {
   "cell_type": "markdown",
   "id": "5dbb561d-b115-4ba5-81f4-2ae3dfd4a71f",
   "metadata": {},
   "source": [
    "## Generating Kingdoms"
   ]
  },
  {
   "cell_type": "code",
   "execution_count": 7,
   "id": "9531806c-8b56-4fe5-bb15-d7c8d9b1cef8",
   "metadata": {
    "height": 338
   },
   "outputs": [],
   "source": [
    "kingdom_prompt = f\"\"\"\n",
    "Create 3 different kingdoms for a fantasy world.\n",
    "For each kingdom generate a description based on the world it's in. \\\n",
    "Describe important leaders, cultures, history of the kingdom.\\\n",
    "\n",
    "Output content in the form:\n",
    "Kingdom 1 Name: <KINGDOM NAME>\n",
    "Kingdom 1 Description: <KINGDOM DESCRIPTION>\n",
    "Kingdom 2 Name: <KINGDOM NAME>\n",
    "Kingdom 2 Description: <KINGDOM DESCRIPTION>\n",
    "Kingdom 3 Name: <KINGDOM NAME>\n",
    "Kingdom 3 Description: <KINGDOM DESCRIPTION>\n",
    "\n",
    "World Name: {world['name']}\n",
    "World Description: {world['description']}\n",
    "\n",
    "Kingdom 1\"\"\"\n"
   ]
  },
  {
   "cell_type": "code",
   "execution_count": 8,
   "id": "f7c87417-695c-443a-baa1-b354a9664d14",
   "metadata": {
    "height": 132
   },
   "outputs": [],
   "source": [
    "output = client.chat.completions.create(\n",
    "    model=\"meta-llama/Llama-3-70b-chat-hf\",\n",
    "    messages=[\n",
    "        {\"role\": \"system\", \"content\": system_prompt},\n",
    "        {\"role\": \"user\", \"content\": kingdom_prompt}\n",
    "    ],\n",
    ")"
   ]
  },
  {
   "cell_type": "code",
   "execution_count": 9,
   "id": "ca6d59b6-60f1-4241-8906-29be576d00e6",
   "metadata": {
    "height": 355
   },
   "outputs": [
    {
     "name": "stdout",
     "output_type": "stream",
     "text": [
      "Created kingdom \"Eldrida\" in Kyropeia\n",
      "Created kingdom \"Valtoria\" in Kyropeia\n",
      "Created kingdom \"Luminaria\" in Kyropeia\n",
      "\n",
      "Kingdom 1 Description: Luminaria is a kingdom of artists and performers, built upon the back of the most majestic Colossus, Elyria. The Luminarians are a vibrant and expressive people, inspired by the beauty of their surroundings and the magic that flows through the Colossi. Led by the charismatic King Orion, a master of the performing arts, Luminaria is a place of wonder and enchantment, where creativity and imagination know no bounds.\n"
     ]
    }
   ],
   "source": [
    "kingdoms = {}\n",
    "kingdoms_output = output.choices[0].message.content\n",
    "\n",
    "for output in kingdoms_output.split('\\n\\n'):\n",
    "  kingdom_name = output.strip().split('\\n')[0] \\\n",
    "    .split('Name: ')[1].strip()\n",
    "  print(f'Created kingdom \"{kingdom_name}\" in {world[\"name\"]}')\n",
    "  kingdom_description = output.strip().split('\\n')[1] \\\n",
    "    .split('Description: ')[1].strip()\n",
    "  kingdom = {\n",
    "      \"name\": kingdom_name,\n",
    "      \"description\": kingdom_description,\n",
    "      \"world\": world['name']\n",
    "  }\n",
    "  kingdoms[kingdom_name] = kingdom\n",
    "world['kingdoms'] = kingdoms\n",
    "\n",
    "print(f'\\nKingdom 1 Description: \\\n",
    "{kingdom[\"description\"]}')"
   ]
  },
  {
   "cell_type": "markdown",
   "id": "e124ee9d-694b-4259-b38a-34ee106c5ca4",
   "metadata": {},
   "source": [
    "## Generating Towns"
   ]
  },
  {
   "cell_type": "code",
   "execution_count": 10,
   "id": "8f111ae4-dc95-49e1-ae15-4b5fd515988e",
   "metadata": {
    "height": 406
   },
   "outputs": [],
   "source": [
    "def get_town_prompt(world, kingdom):\n",
    "    return f\"\"\"\n",
    "    Create 3 different towns for a fantasy kingdom abd world. \\\n",
    "    Describe the region it's in, important places of the town, \\\n",
    "    and interesting history about it. \\\n",
    "    \n",
    "    Output content in the form:\n",
    "    Town 1 Name: <TOWN NAME>\n",
    "    Town 1 Description: <TOWN DESCRIPTION>\n",
    "    Town 2 Name: <TOWN NAME>\n",
    "    Town 2 Description: <TOWN DESCRIPTION>\n",
    "    Town 3 Name: <TOWN NAME>\n",
    "    Town 3 Description: <TOWN DESCRIPTION>\n",
    "    \n",
    "    World Name: {world['name']}\n",
    "    World Description: {world['description']}\n",
    "    \n",
    "    Kingdom Name: {kingdom['name']}\n",
    "    Kingdom Description {kingdom['description']}\n",
    "    \n",
    "    Town 1 Name:\"\"\"\n"
   ]
  },
  {
   "cell_type": "code",
   "execution_count": 11,
   "id": "90d892c0-b74e-4c75-bcf7-b055fa6712cd",
   "metadata": {
    "height": 508
   },
   "outputs": [],
   "source": [
    "def create_towns(world, kingdom):\n",
    "    print(f'\\nCreating towns for kingdom: {kingdom[\"name\"]}...')\n",
    "    output = client.chat.completions.create(\n",
    "      model=\"meta-llama/Llama-3-70b-chat-hf\",\n",
    "      messages=[\n",
    "          {\"role\": \"system\", \"content\": system_prompt},\n",
    "          {\"role\": \"user\", \"content\": get_town_prompt(world, kingdom)}\n",
    "      ],\n",
    "  )\n",
    "    towns_output = output.choices[0].message.content\n",
    "    \n",
    "    towns = {}\n",
    "    for output in towns_output.split('\\n\\n'):\n",
    "        town_name = output.strip().split('\\n')[0]\\\n",
    "        .split('Name: ')[1].strip()\n",
    "        print(f'- {town_name} created')\n",
    "        \n",
    "        town_description = output.strip().split('\\n')[1]\\\n",
    "        .split('Description: ')[1].strip()\n",
    "        \n",
    "        town = {\n",
    "          \"name\": town_name,\n",
    "          \"description\": town_description,\n",
    "          \"world\": world['name'],\n",
    "          \"kingdom\": kingdom['name']\n",
    "        }\n",
    "        towns[town_name] = town\n",
    "    kingdom[\"towns\"] = towns"
   ]
  },
  {
   "cell_type": "code",
   "execution_count": 12,
   "id": "b534d860-5b6b-43f8-9c60-e345fbaf1d9e",
   "metadata": {
    "height": 115
   },
   "outputs": [
    {
     "name": "stdout",
     "output_type": "stream",
     "text": [
      "\n",
      "Creating towns for kingdom: Eldrida...\n",
      "- Luminaria's Peak created\n",
      "- Emberhaven created\n",
      "- Verdant's Rest created\n",
      "\n",
      "Creating towns for kingdom: Valtoria...\n",
      "- Tharros' Spine created\n",
      "- Emberhaven created\n",
      "- Luminaria's Edge created\n",
      "\n",
      "Creating towns for kingdom: Luminaria...\n",
      "- Lumin's Reach created\n",
      "- Emberhaven created\n",
      "- Skypoint created\n",
      "\n",
      "Town 1 Description: Located on the western slope of Elyria's massive body, Lumin's Reach is a town of winding streets and colorful marketplaces. The town is home to the famous Starlight Theater, where King Orion himself often performs, and the Academy of the Performing Arts, where young Luminarians hone their craft. Lumin's Reach has a rich history of artistic innovation, and its people are known for their love of music, dance, and storytelling.\n"
     ]
    }
   ],
   "source": [
    "for kingdom in kingdoms.values():\n",
    "    create_towns(world, kingdom)  \n",
    "\n",
    "town = list(kingdom['towns'].values())[0]\n",
    "print(f'\\nTown 1 Description: \\\n",
    "{town[\"description\"]}')"
   ]
  },
  {
   "cell_type": "markdown",
   "id": "fff397b4-3ac6-4737-a232-8e68df1471b0",
   "metadata": {},
   "source": [
    "## Generating Non-Player Characters (NPC's)"
   ]
  },
  {
   "cell_type": "code",
   "execution_count": 13,
   "id": "f31adacd-a37a-4de9-9be5-aadf56fff988",
   "metadata": {
    "height": 440
   },
   "outputs": [],
   "source": [
    "def get_npc_prompt(world, kingdom, town): \n",
    "    return f\"\"\"\n",
    "    Create 3 different characters based on the world, kingdom \\\n",
    "    and town they're in. Describe the character's appearance and \\\n",
    "    profession, as well as their deeper pains and desires. \\\n",
    "    \n",
    "    Output content in the form:\n",
    "    Character 1 Name: <CHARACTER NAME>\n",
    "    Character 1 Description: <CHARACTER DESCRIPTION>\n",
    "    Character 2 Name: <CHARACTER NAME>\n",
    "    Character 2 Description: <CHARACTER DESCRIPTION>\n",
    "    Character 3 Name: <CHARACTER NAME>\n",
    "    Character 3 Description: <CHARACTER DESCRIPTION>\n",
    "    \n",
    "    World Name: {world['name']}\n",
    "    World Description: {world['description']}\n",
    "    \n",
    "    Kingdom Name: {kingdom['name']}\n",
    "    Kingdom Description: {kingdom['description']}\n",
    "    \n",
    "    Town Name: {town['name']}\n",
    "    Town Description: {town['description']}\n",
    "    \n",
    "    Character 1 Name:\"\"\""
   ]
  },
  {
   "cell_type": "code",
   "execution_count": 14,
   "id": "a301bf4d-1f99-475b-ae88-4a05e7537e3f",
   "metadata": {
    "height": 542
   },
   "outputs": [],
   "source": [
    "def create_npcs(world, kingdom, town):\n",
    "    print(f'\\nCreating characters for the town of: {town[\"name\"]}...')\n",
    "    output = client.chat.completions.create(\n",
    "        model=\"meta-llama/Llama-3-70b-chat-hf\",\n",
    "        messages=[\n",
    "            {\"role\": \"system\", \"content\": system_prompt},\n",
    "            {\"role\": \"user\", \"content\": get_npc_prompt(world, kingdom, town)}\n",
    "        ],\n",
    "        temperature=1  #added to generate unique names\n",
    "    )\n",
    "\n",
    "    npcs_output = output.choices[0].message.content\n",
    "    npcs = {}\n",
    "    for output in npcs_output.split('\\n\\n'):\n",
    "        npc_name = output.strip().split('\\n')[0]\\\n",
    "        .split('Name: ')[1].strip()\n",
    "        print(f'- \"{npc_name}\" created')\n",
    "        \n",
    "        npc_description = output.strip().split('\\n')[1\\\n",
    "        ].split('Description: ')[1].strip()\n",
    "        \n",
    "        npc = {\n",
    "        \"name\": npc_name,\n",
    "        \"description\": npc_description,\n",
    "        \"world\": world['name'],\n",
    "        \"kingdom\": kingdom['name'],\n",
    "        \"town\": town['name']\n",
    "        }\n",
    "        npcs[npc_name] = npc\n",
    "    town[\"npcs\"] = npcs"
   ]
  },
  {
   "cell_type": "code",
   "execution_count": 15,
   "id": "36f0021d-41fa-4f3d-aed9-32d4fcb69dcb",
   "metadata": {
    "height": 98
   },
   "outputs": [
    {
     "name": "stdout",
     "output_type": "stream",
     "text": [
      "\n",
      "Creating characters for the town of: Luminaria's Peak...\n",
      "- \"Kaida Starweaver\" created\n",
      "- \"Arin the Unyielding\" created\n",
      "- \"Elian Shadowglow\" created\n",
      "\n",
      "Creating characters for the town of: Emberhaven...\n",
      "- \"Kaelin Vex\" created\n",
      "- \"Lyrien Flynn\" created\n",
      "- \"Thrain Blackiron\" created\n",
      "\n",
      "Creating characters for the town of: Verdant's Rest...\n",
      "- \"Lyrien Aethon\" created\n",
      "- \"Kaelara Moonwhisper\" created\n",
      "- \"Thorne Blackwood\" created\n"
     ]
    }
   ],
   "source": [
    "for kingdom in kingdoms.values():\n",
    "    for town in kingdom['towns'].values():\n",
    "        create_npcs(world, kingdom, town)\n",
    "  # For now we'll only generate npcs for one kingdom\n",
    "    break"
   ]
  },
  {
   "cell_type": "code",
   "execution_count": 16,
   "id": "e95294cc-ee92-430d-ad48-e95852784851",
   "metadata": {
    "height": 81
   },
   "outputs": [
    {
     "name": "stdout",
     "output_type": "stream",
     "text": [
      "\n",
      "NPC 1 in Verdant's Rest, Eldrida:\n",
      "Lyrien is a 35-year-old Eldridan scholar with short, curly brown hair and piercing green eyes. He wears worn, leather-bound tomes on his shoulders, carrying the weight of his research on the ancient magic of the Colossi. As a member of Queen Lyra's research team, Lyrien is driven to unlock the secrets of the Colossi, but his obsession stems from a deeper pain: the loss of his family during a catastrophic Colossus migration. He hopes to find a way to prevent such tragedies and redeem his people's connection with the massive creatures.\n"
     ]
    }
   ],
   "source": [
    "npc = list(town['npcs'].values())[0]\n",
    "\n",
    "print(f'\\nNPC 1 in {town[\"name\"]}, \\\n",
    "{kingdom[\"name\"]}:\\n{npc[\"description\"]}')"
   ]
  },
  {
   "cell_type": "markdown",
   "id": "764a433b-5e04-4980-a9b0-4d336113f072",
   "metadata": {},
   "source": [
    "## Save the World\n",
    ">Note: You will save your world state to a file different than the one shown in the video to allow future lessons to be consistent with the video. If later wish to build your own worlds, you will want to load your file rather than the saved file."
   ]
  },
  {
   "cell_type": "code",
   "execution_count": 17,
   "id": "2dce3195-2c76-42da-9e49-c7a17e5ab08b",
   "metadata": {
    "height": 236
   },
   "outputs": [],
   "source": [
    "import json\n",
    "\n",
    "def save_world(world, filename):\n",
    "    with open(filename, 'w') as f:\n",
    "        json.dump(world, f)\n",
    "\n",
    "def load_world(filename):\n",
    "    with open(filename, 'r') as f:\n",
    "        return json.load(f)\n",
    "\n",
    "#save_world(world, '../shared_data/Kyropeia.json')\n",
    "save_world(world, '../shared_data/YourWorld_L1.json') #save to your version"
   ]
  },
  {
   "cell_type": "code",
   "execution_count": null,
   "id": "f64fc076-32b5-41ca-b755-6ccbd52347c0",
   "metadata": {
    "height": 30
   },
   "outputs": [],
   "source": []
  }
 ],
 "metadata": {
  "kernelspec": {
   "display_name": "Python 3 (ipykernel)",
   "language": "python",
   "name": "python3"
  },
  "language_info": {
   "codemirror_mode": {
    "name": "ipython",
    "version": 3
   },
   "file_extension": ".py",
   "mimetype": "text/x-python",
   "name": "python",
   "nbconvert_exporter": "python",
   "pygments_lexer": "ipython3",
   "version": "3.11.5"
  }
 },
 "nbformat": 4,
 "nbformat_minor": 5
}
