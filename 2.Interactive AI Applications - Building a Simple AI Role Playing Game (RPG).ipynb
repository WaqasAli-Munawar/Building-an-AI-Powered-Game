{
 "cells": [
  {
   "cell_type": "markdown",
   "id": "f1d851be-0eda-48eb-92d3-3c59b31b0159",
   "metadata": {},
   "source": [
    "## Create a Game UI with Gradio"
   ]
  },
  {
   "cell_type": "code",
   "execution_count": 1,
   "id": "c2e37b6e-e683-4a99-93ec-8ff0ab9528a2",
   "metadata": {
    "height": 542
   },
   "outputs": [
    {
     "name": "stdout",
     "output_type": "stream",
     "text": [
      "Running on local URL:  https://0.0.0.0:7860\n",
      "\n",
      "To create a public link, set `share=True` in `launch()`.\n"
     ]
    },
    {
     "data": {
      "text/html": [
       "<div><iframe src=\"https://s172-29-100-132p7860.lab-aws-production.deeplearning.ai/\" width=\"100%\" height=\"500\" allow=\"autoplay; camera; microphone; clipboard-read; clipboard-write;\" frameborder=\"0\" allowfullscreen></iframe></div>"
      ],
      "text/plain": [
       "<IPython.core.display.HTML object>"
      ]
     },
     "metadata": {},
     "output_type": "display_data"
    }
   ],
   "source": [
    "import gradio as gr\n",
    "import os\n",
    "demo = None #added to allow restart\n",
    "\n",
    "def start_game(main_loop, share=False):\n",
    "    # added code to support restart\n",
    "    global demo\n",
    "    # If demo is already running, close it first\n",
    "    if demo is not None:\n",
    "        demo.close()\n",
    "\n",
    "    demo = gr.ChatInterface(\n",
    "        main_loop,\n",
    "        chatbot=gr.Chatbot(height=250, placeholder=\"Type 'start game' to begin\"),\n",
    "        textbox=gr.Textbox(placeholder=\"What do you do next?\", container=False, scale=7),\n",
    "        title=\"AI RPG\",\n",
    "        # description=\"Ask Yes Man any question\",\n",
    "        theme=\"soft\",\n",
    "        examples=[\"Look around\", \"Continue the story\"],\n",
    "        cache_examples=False,\n",
    "        retry_btn=\"Retry\",\n",
    "        undo_btn=\"Undo\",\n",
    "        clear_btn=\"Clear\",\n",
    "                           )\n",
    "    demo.launch(share=share, server_name=\"0.0.0.0\")\n",
    "\n",
    "def test_main_loop(message, history):\n",
    "    return 'Entered Action: ' + message\n",
    "\n",
    "start_game(test_main_loop)"
   ]
  },
  {
   "cell_type": "markdown",
   "id": "df4bb323-dbaf-4705-b884-548331b1dd8b",
   "metadata": {},
   "source": [
    "## Generating an Initial Start"
   ]
  },
  {
   "cell_type": "code",
   "execution_count": 2,
   "id": "407506d5-5745-4116-9c12-77d5f3789dff",
   "metadata": {
    "height": 183
   },
   "outputs": [],
   "source": [
    "from helper import load_world, save_world\n",
    "from together import Together\n",
    "from helper import get_together_api_key, load_env\n",
    "\n",
    "client = Together(api_key=get_together_api_key())\n",
    "\n",
    "world = load_world('../shared_data/Kyropeia.json')\n",
    "kingdom = world['kingdoms']['Eldrida']\n",
    "town = kingdom['towns'][\"Luminaria\"]\n",
    "character = town['npcs']['Elwyn Stormbringer']"
   ]
  },
  {
   "cell_type": "code",
   "execution_count": 3,
   "id": "61cc045d-e085-4c1d-8c95-34af2461c3d7",
   "metadata": {
    "height": 287
   },
   "outputs": [],
   "source": [
    "system_prompt = \"\"\"You are an AI Game master. Your job is to create a \n",
    "start to an adventure based on the world, kingdom, town and character \n",
    "a player is playing as. \n",
    "Instructions:\n",
    "You must only use 2-4 sentences \\\n",
    "Write in second person. For example: \"You are Jack\" \\\n",
    "Write in present tense. For example \"You stand at...\" \\\n",
    "First describe the character and their backstory. \\\n",
    "Then describes where they start and what they see around them.\"\"\"\n",
    "world_info = f\"\"\"\n",
    "World: {world}\n",
    "Kingdom: {kingdom}\n",
    "Town: {town}\n",
    "Your Character: {character}\n",
    "\"\"\""
   ]
  },
  {
   "cell_type": "code",
   "execution_count": 4,
   "id": "5e4b36dc-03c6-4729-8530-1924ce3739e0",
   "metadata": {
    "height": 185
   },
   "outputs": [],
   "source": [
    "model_output = client.chat.completions.create(\n",
    "    model=\"meta-llama/Llama-3-70b-chat-hf\",\n",
    "    temperature=1.0,\n",
    "    messages=[\n",
    "        {\"role\": \"system\", \"content\": system_prompt},\n",
    "        {\"role\": \"user\", \"content\": world_info + '\\nYour Start:'}\n",
    "    ],\n",
    ")\n"
   ]
  },
  {
   "cell_type": "code",
   "execution_count": 5,
   "id": "5848ae81-b140-4256-a827-d8f3dc618966",
   "metadata": {
    "height": 117
   },
   "outputs": [
    {
     "name": "stdout",
     "output_type": "stream",
     "text": [
      "You are Elwyn Stormbringer, a 25-year-old inventor with a passion for harnessing the power of the Colossi. You stand in the midst of Luminaria, a town of radiant beauty, surrounded by crystal formations that illuminate the streets and buildings. The Academy of Elemental Studies, where scholars from across Eldrida come to unlock the secrets of the Colossi, is just a short walk from your current location. You wear a pair of goggles on your forehead and carry a worn leather-bound journal filled with sketches of your inventive ideas. The weight of your past mistakes, including your mentor's failed experiment that destroyed a section of the city, drives you to create a machine that can prevent such disasters from occurring again.\n"
     ]
    }
   ],
   "source": [
    "start = model_output.choices[0].message.content\n",
    "print(start)\n",
    "world['start'] = start\n",
    "#save_world(world, '../shared_data/Kyropeia.json')  # preserve video version\n",
    "save_world(world, '../shared_data/YourWorld_L1.json')"
   ]
  },
  {
   "cell_type": "markdown",
   "id": "e77fc24b-c95e-4b9f-9dc3-c0484316d194",
   "metadata": {},
   "source": [
    "## Creating the Main Action Loop"
   ]
  },
  {
   "cell_type": "code",
   "execution_count": 6,
   "id": "a81ec047-6409-401c-a426-7c3982244a5e",
   "metadata": {
    "height": 610
   },
   "outputs": [],
   "source": [
    "def run_action(message, history, game_state):\n",
    "    \n",
    "    if(message == 'start game'):\n",
    "        return game_state['start']\n",
    "\n",
    "    system_prompt = \"\"\"You are an AI Game master. Your job is to write what \\\n",
    "happens next in a player's adventure game.\\\n",
    "Instructions: \\\n",
    "You must on only write 1-3 sentences in response. \\\n",
    "Always write in second person present tense. \\\n",
    "Ex. (You look north and see...)\"\"\"\n",
    "    \n",
    "    world_info = f\"\"\"\n",
    "World: {game_state['world']}\n",
    "Kingdom: {game_state['kingdom']}\n",
    "Town: {game_state['town']}\n",
    "Your Character:  {game_state['character']}\"\"\"\n",
    "\n",
    "    messages = [\n",
    "        {\"role\": \"system\", \"content\": system_prompt},\n",
    "        {\"role\": \"user\", \"content\": world_info}\n",
    "    ]\n",
    "    for action in history:\n",
    "        messages.append({\"role\": \"assistant\", \"content\": action[0]})\n",
    "        messages.append({\"role\": \"user\", \"content\": action[1]})\n",
    "\n",
    "    messages.append({\"role\": \"user\", \"content\": message})\n",
    "    model_output = client.chat.completions.create(\n",
    "        model=\"meta-llama/Llama-3-70b-chat-hf\",\n",
    "        messages=messages\n",
    "    )\n",
    "    \n",
    "    result = model_output.choices[0].message.content\n",
    "    return result"
   ]
  },
  {
   "cell_type": "code",
   "execution_count": 7,
   "id": "129e6ae9-a902-47a8-a1fd-ee3ddb14c909",
   "metadata": {
    "height": 183
   },
   "outputs": [],
   "source": [
    "game_state = {\n",
    "    \"world\": world['description'],\n",
    "    \"kingdom\": kingdom['description'],\n",
    "    \"town\": town['description'],\n",
    "    \"character\": character['description'],\n",
    "    \"start\": start,\n",
    "}\n",
    "\n",
    "def main_loop(message, history):\n",
    "    return run_action(message, history, game_state)"
   ]
  },
  {
   "cell_type": "markdown",
   "id": "721df4ad-046a-416f-b7aa-bbeedbdbc09e",
   "metadata": {},
   "source": [
    "## Launch and Share!"
   ]
  },
  {
   "cell_type": "code",
   "execution_count": null,
   "id": "7a4d444a-cbe3-4d12-882a-5eed56c6b778",
   "metadata": {
    "height": 30
   },
   "outputs": [
    {
     "name": "stdout",
     "output_type": "stream",
     "text": [
      "Closing server running on port: 7860\n",
      "Running on local URL:  https://0.0.0.0:7860\n"
     ]
    }
   ],
   "source": [
    "start_game(main_loop, True)"
   ]
  },
  {
   "cell_type": "code",
   "execution_count": null,
   "id": "d64ce71f-30ba-4f6a-909c-dc5507284054",
   "metadata": {
    "height": 30
   },
   "outputs": [],
   "source": []
  }
 ],
 "metadata": {
  "kernelspec": {
   "display_name": "Python 3 (ipykernel)",
   "language": "python",
   "name": "python3"
  },
  "language_info": {
   "codemirror_mode": {
    "name": "ipython",
    "version": 3
   },
   "file_extension": ".py",
   "mimetype": "text/x-python",
   "name": "python",
   "nbconvert_exporter": "python",
   "pygments_lexer": "ipython3",
   "version": "3.11.5"
  }
 },
 "nbformat": 4,
 "nbformat_minor": 5
}
